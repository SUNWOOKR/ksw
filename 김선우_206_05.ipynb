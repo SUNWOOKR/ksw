{
  "nbformat": 4,
  "nbformat_minor": 0,
  "metadata": {
    "colab": {
      "provenance": [],
      "include_colab_link": true
    },
    "kernelspec": {
      "name": "python3",
      "display_name": "Python 3"
    },
    "language_info": {
      "name": "python"
    }
  },
  "cells": [
    {
      "cell_type": "markdown",
      "metadata": {
        "id": "view-in-github",
        "colab_type": "text"
      },
      "source": [
        "<a href=\"https://colab.research.google.com/github/SUNWOOKR/ksw/blob/master/%EA%B9%80%EC%84%A0%EC%9A%B0_206_05.ipynb\" target=\"_parent\"><img src=\"https://colab.research.google.com/assets/colab-badge.svg\" alt=\"Open In Colab\"/></a>"
      ]
    },
    {
      "cell_type": "code",
      "execution_count": null,
      "metadata": {
        "id": "Xwwcx4iLcYlu",
        "colab": {
          "base_uri": "https://localhost:8080/"
        },
        "outputId": "b9942db9-ffb2-48e9-8164-7b1877a4e2b2"
      },
      "outputs": [
        {
          "output_type": "stream",
          "name": "stdout",
          "text": [
            "2023-04-04 08:52:37.400763+09:00\n",
            "2023\n",
            "4\n",
            "4\n",
            "8\n",
            "52\n",
            "37\n"
          ]
        }
      ],
      "source": [
        "import datetime\n",
        "from pytz import timezone\n",
        "\n",
        "now = datetime.datetime.now(timezone('Asia/Seoul'))\n",
        "\n",
        "print(now)\n",
        "print(now.year)\n",
        "print(now.month)\n",
        "print(now.day)\n",
        "print(now.hour)\n",
        "print(now.minute)\n",
        "print(now.second)"
      ]
    },
    {
      "cell_type": "code",
      "source": [
        "import random\n",
        "\n",
        "print(random.random())\n",
        "\n",
        "print(random.randrange(1,7))"
      ],
      "metadata": {
        "colab": {
          "base_uri": "https://localhost:8080/"
        },
        "id": "WOFFw-S2i9i0",
        "outputId": "842eee56-03fd-4ae1-c4b0-ff9515c09cd0"
      },
      "execution_count": null,
      "outputs": [
        {
          "output_type": "stream",
          "name": "stdout",
          "text": [
            "0.501010271377422\n",
            "2\n"
          ]
        }
      ]
    },
    {
      "cell_type": "code",
      "source": [
        "import datetime\n",
        "from pytz import timezone\n",
        "\n",
        "now = datetime.datetime.now(timezone('Asia/Seoul'))\n",
        "\n",
        "if now.hour < 12:\n",
        "  print(\"현재시간은\", now.hour,\"시\",now.minute,\"분으로 오전입니다.\")\n",
        "else:\n",
        "  print(\"현재시간은\", now.hour,\"시\",now.minute,\"분으로 오후입니다.\")"
      ],
      "metadata": {
        "colab": {
          "base_uri": "https://localhost:8080/"
        },
        "id": "XDt3Tg2Gi9oy",
        "outputId": "db827c38-35ab-41e0-b7f0-cae7a5a69a40"
      },
      "execution_count": null,
      "outputs": [
        {
          "output_type": "stream",
          "name": "stdout",
          "text": [
            "현재시간은 9 시 3 분으로 오전입니다.\n"
          ]
        }
      ]
    },
    {
      "cell_type": "code",
      "source": [
        "import datetime\n",
        "from pytz import timezone\n",
        "\n",
        "now = datetime.datetime.now(timezone('Asia/Seoul'))\n",
        "\n",
        "if 3 <= now.month <= 5:\n",
        "  print(\"이번 달은 \",now.month,\"월로 봄입니다.\",sep='')\n",
        "elif 6 <= now.month <= 8:\n",
        "  print(\"이번 달은 \",now.month,\"월로 여름입니다.\",sep='')\n",
        "elif 9 <= now.month <= 11:\n",
        "  print(\"이번 달은 \",now.month,\"월로 가을입니다.\",sep='')\n",
        "else:\n",
        "  print(\"이번 달은 \",now.month,\"월로 겨울입니다.\",sep='')"
      ],
      "metadata": {
        "colab": {
          "base_uri": "https://localhost:8080/"
        },
        "id": "pdgHQyWJk03p",
        "outputId": "fd1f4508-a926-4da2-b012-af9779862003"
      },
      "execution_count": null,
      "outputs": [
        {
          "output_type": "stream",
          "name": "stdout",
          "text": [
            "이번 달은 4월로 봄입니다.\n"
          ]
        }
      ]
    },
    {
      "cell_type": "code",
      "source": [
        "import random\n",
        "import datetime\n",
        "from pytz import timezone\n",
        "\n",
        "hour = random.randrange(0,24)\n",
        "sunny = random.choice([True,False])\n",
        "\n",
        "if hour < 12:\n",
        "  print(\"좋은 아침입니다. 지금 시각은 %d시입니다.\" %(hour))\n",
        "else:\n",
        "  print(\"좋은 오후입니다. 지금 시각은 %d시입니다.\" %(hour))\n",
        "\n",
        "if sunny:\n",
        "  print(\"현재 날씨가 화창합니다\")\n",
        "  if 6 <= hour <= 8:\n",
        "    print(\"종달새가 노래를 한다.\")\n",
        "  else:\n",
        "    print(\"종달새가 노래를 하지 않는다\")\n",
        "else:\n",
        "  print(\"현재 날씨가 화창하지 않습니다.\")\n",
        "  print(\"종달새가 노래를 하지 않는다.\")\n",
        "  "
      ],
      "metadata": {
        "colab": {
          "base_uri": "https://localhost:8080/"
        },
        "id": "efAHjzdol0py",
        "outputId": "6247d0e4-a5c6-45f7-8e4c-336683502a3f"
      },
      "execution_count": null,
      "outputs": [
        {
          "output_type": "stream",
          "name": "stdout",
          "text": [
            "좋은 오후입니다. 지금 시각은 18시입니다.\n",
            "현재 날씨가 화창하지 않습니다.\n",
            "종달새가 노래를 하지 않는다.\n"
          ]
        }
      ]
    },
    {
      "cell_type": "code",
      "source": [
        "x = 0\n",
        "while x < 3:\n",
        "  print(\"안녕하세요\")\n",
        "  x+=1"
      ],
      "metadata": {
        "colab": {
          "base_uri": "https://localhost:8080/"
        },
        "id": "dEK3UiUxv3q5",
        "outputId": "fc232ce4-7cfa-4e82-9579-49707d3edc39"
      },
      "execution_count": null,
      "outputs": [
        {
          "output_type": "stream",
          "name": "stdout",
          "text": [
            "안녕하세요\n",
            "안녕하세요\n",
            "안녕하세요\n"
          ]
        }
      ]
    },
    {
      "cell_type": "code",
      "source": [
        "a = int(input(\"원하는 단은? \"))\n",
        "x = 1\n",
        "\n",
        "while(x <= 9):\n",
        "  print(a,\"×\", x, \"=\", a*x)\n",
        "  x+=1"
      ],
      "metadata": {
        "colab": {
          "base_uri": "https://localhost:8080/"
        },
        "id": "RIbKMwgAv3tX",
        "outputId": "39596606-2c96-4483-8512-9b7dcded688b"
      },
      "execution_count": null,
      "outputs": [
        {
          "output_type": "stream",
          "name": "stdout",
          "text": [
            "원하는 단은? 2\n",
            "2 × 1 = 2\n",
            "2 × 2 = 4\n",
            "2 × 3 = 6\n",
            "2 × 4 = 8\n",
            "2 × 5 = 10\n",
            "2 × 6 = 12\n",
            "2 × 7 = 14\n",
            "2 × 8 = 16\n",
            "2 × 9 = 18\n"
          ]
        }
      ]
    },
    {
      "cell_type": "code",
      "source": [
        "num = 1\n",
        "sum = 0\n",
        "while(num <= 10):\n",
        "  sum += num\n",
        "  print(\"num의 값: %d => 합계 : %d\" %(num,sum))\n",
        "  num+=1"
      ],
      "metadata": {
        "colab": {
          "base_uri": "https://localhost:8080/"
        },
        "id": "OCmn_sqlv3v6",
        "outputId": "d894b249-ad71-475c-8ed0-b71f72dcb4da"
      },
      "execution_count": null,
      "outputs": [
        {
          "output_type": "stream",
          "name": "stdout",
          "text": [
            "num의 값: 1 => 합계 : 1\n",
            "num의 값: 2 => 합계 : 3\n",
            "num의 값: 3 => 합계 : 6\n",
            "num의 값: 4 => 합계 : 10\n",
            "num의 값: 5 => 합계 : 15\n",
            "num의 값: 6 => 합계 : 21\n",
            "num의 값: 7 => 합계 : 28\n",
            "num의 값: 8 => 합계 : 36\n",
            "num의 값: 9 => 합계 : 45\n",
            "num의 값: 10 => 합계 : 55\n"
          ]
        }
      ]
    },
    {
      "cell_type": "code",
      "source": [
        "sum = 0\n",
        "num = 150\n",
        "\n",
        "while(num <= 300):\n",
        "  if num % 2 == 1:\n",
        "    sum += num\n",
        "  num+=1\n",
        "print(sum)"
      ],
      "metadata": {
        "colab": {
          "base_uri": "https://localhost:8080/"
        },
        "id": "TbtYt5k2zcnJ",
        "outputId": "333c302f-7591-4c48-d2dd-afca5a5ea9d2"
      },
      "execution_count": null,
      "outputs": [
        {
          "output_type": "stream",
          "name": "stdout",
          "text": [
            "16875\n"
          ]
        }
      ]
    },
    {
      "cell_type": "code",
      "source": [
        "print(\"---------------\")\n",
        "print(\"섭씨    화씨\")\n",
        "print(\"---------------\")\n",
        "\n",
        "a = -5\n",
        "while(a <= 5):\n",
        "  if a < 0:\n",
        "    print(a,a*9.0/5.0 + 32.0,sep='      ')\n",
        "  else:\n",
        "    print(a,a*9.0/5.0 + 32.0,sep='       ')\n",
        "  a+=1"
      ],
      "metadata": {
        "colab": {
          "base_uri": "https://localhost:8080/"
        },
        "id": "coR-XIQ43RaJ",
        "outputId": "c09b8414-5690-48bc-cb1d-5cec6b9d8444"
      },
      "execution_count": null,
      "outputs": [
        {
          "output_type": "stream",
          "name": "stdout",
          "text": [
            "---------------\n",
            "섭씨    화씨\n",
            "---------------\n",
            "-5      23.0\n",
            "-4      24.8\n",
            "-3      26.6\n",
            "-2      28.4\n",
            "-1      30.2\n",
            "0       32.0\n",
            "1       33.8\n",
            "2       35.6\n",
            "3       37.4\n",
            "4       39.2\n",
            "5       41.0\n"
          ]
        }
      ]
    },
    {
      "cell_type": "code",
      "source": [
        "num = 10\n",
        "sum = 0\n",
        "a = 1\n",
        "\n",
        "while(sum <= 9):\n",
        "  a *= (num - sum)\n",
        "  sum += 1\n",
        "  \n",
        "print(\"10! =\",a)"
      ],
      "metadata": {
        "colab": {
          "base_uri": "https://localhost:8080/"
        },
        "id": "xJvCBxeEzcs3",
        "outputId": "82b7f504-885f-47f0-8f11-b65f15265b23"
      },
      "execution_count": null,
      "outputs": [
        {
          "output_type": "stream",
          "name": "stdout",
          "text": [
            "10! = 3628800\n"
          ]
        }
      ]
    },
    {
      "cell_type": "code",
      "source": [
        "a = 1;\n",
        "\n",
        "while(a <= 20):\n",
        "  if(a % 2 == 0):\n",
        "    print(a,end=' ')\n",
        "  a+=1"
      ],
      "metadata": {
        "colab": {
          "base_uri": "https://localhost:8080/"
        },
        "id": "h58NBm8-zcyn",
        "outputId": "1914d7ed-660c-4262-e2ae-0d8079488301"
      },
      "execution_count": null,
      "outputs": [
        {
          "output_type": "stream",
          "name": "stdout",
          "text": [
            "2 4 6 8 10 12 14 16 18 20 "
          ]
        }
      ]
    },
    {
      "cell_type": "code",
      "source": [
        "a = 10\n",
        "\n",
        "while(a <= 50):\n",
        "  if a % 3 != 0:\n",
        "    print(a,end=' ')\n",
        "  a+=1"
      ],
      "metadata": {
        "colab": {
          "base_uri": "https://localhost:8080/"
        },
        "id": "P5HniTPTv3yZ",
        "outputId": "2c852012-2953-4dae-e8d1-a92432e7b987"
      },
      "execution_count": null,
      "outputs": [
        {
          "output_type": "stream",
          "name": "stdout",
          "text": [
            "10 11 13 14 16 17 19 20 22 23 25 26 28 29 31 32 34 35 37 38 40 41 43 44 46 47 49 50 "
          ]
        }
      ]
    },
    {
      "cell_type": "code",
      "source": [
        "pw = input(\"암호입력: \")\n",
        "if pw == 'python':\n",
        "  print(\"로그인 성공\")\n",
        "while(pw != 'python'): \n",
        "  pw = input(\"암호입력: \")\n",
        "  if pw == 'python':\n",
        "     print(\"로그인 성공\")\n",
        "     break\n"
      ],
      "metadata": {
        "colab": {
          "base_uri": "https://localhost:8080/"
        },
        "id": "XbkVkXJR-LtP",
        "outputId": "a15d2fb1-cc1f-4d94-99a4-50ccc2ce5f5b"
      },
      "execution_count": null,
      "outputs": [
        {
          "output_type": "stream",
          "name": "stdout",
          "text": [
            "암호입력: python\n",
            "로그인 성공\n"
          ]
        }
      ]
    },
    {
      "cell_type": "code",
      "source": [
        "import random\n",
        "\n",
        "num = random.randint(1,100)\n",
        "\n",
        "sum = 0\n",
        "\n",
        "while(a != num):\n",
        "  a = int(input(\"숫자를 맞춰보세요: \"))\n",
        "  if a > num:\n",
        "    print(\"높음\")\n",
        "    sum+=1\n",
        "  elif a < num:\n",
        "    print(\"낮음\")\n",
        "    sum+=1\n",
        "  elif a == num:\n",
        "    print(\"축하합니다.\",\"시도 횟수= \",sum)\n",
        "    "
      ],
      "metadata": {
        "colab": {
          "base_uri": "https://localhost:8080/"
        },
        "id": "KY0iXoi9-LxQ",
        "outputId": "72d5728d-fbc5-418b-d7ad-ff7ccf33dfe7"
      },
      "execution_count": null,
      "outputs": [
        {
          "output_type": "stream",
          "name": "stdout",
          "text": [
            "숫자를 맞춰보세요: 50\n",
            "낮음\n",
            "숫자를 맞춰보세요: 60\n",
            "낮음\n",
            "숫자를 맞춰보세요: 70\n",
            "낮음\n",
            "숫자를 맞춰보세요: 90\n",
            "낮음\n",
            "숫자를 맞춰보세요: 99\n",
            "축하합니다. 시도 횟수=  4\n"
          ]
        }
      ]
    },
    {
      "cell_type": "code",
      "source": [],
      "metadata": {
        "id": "X6mgNB_d-L0m"
      },
      "execution_count": null,
      "outputs": []
    },
    {
      "cell_type": "code",
      "source": [],
      "metadata": {
        "id": "sPogH7TX-L3_"
      },
      "execution_count": null,
      "outputs": []
    }
  ]
}